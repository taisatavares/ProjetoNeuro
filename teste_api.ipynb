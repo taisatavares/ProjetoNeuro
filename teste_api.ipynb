{
 "cells": [
  {
   "cell_type": "code",
   "execution_count": 6,
   "id": "25ebf9d1",
   "metadata": {},
   "outputs": [
    {
     "name": "stdout",
     "output_type": "stream",
     "text": [
      "=== /performance ===\n",
      "Status Code: 200\n",
      "Retorno: {'message': '2 registros recebidos com sucesso!'}\n",
      "\n",
      "\n",
      "=== /aderencia ===\n",
      "Status Code: 200\n",
      "Retorno: {'message': '2 registros para aderência recebidos!'}\n",
      "\n",
      "\n"
     ]
    }
   ],
   "source": [
    "# Importar a biblioteca\n",
    "import requests\n",
    "import json\n",
    "\n",
    "# URL base da API\n",
    "base_url = \"http://127.0.0.1:8001/v1\"\n",
    "\n",
    "# Dados de teste\n",
    "batch_records = {\n",
    "    \"batch_records\": [\n",
    "        {\"VAR2\": \"M\", \"IDADE\": 30, \"VAR5\": \"PR\", \"REF_DATE\": \"2025-08-01\", \"TARGET\": 0},\n",
    "        {\"VAR2\": \"F\", \"IDADE\": 45, \"VAR5\": \"SP\", \"REF_DATE\": \"2025-08-01\", \"TARGET\": 1}\n",
    "    ]\n",
    "}\n",
    "\n",
    "# Função para enviar dados para um endpoint\n",
    "def testar_endpoint(endpoint_name, dados):\n",
    "    url = f\"{base_url}/{endpoint_name}\"\n",
    "    response = requests.post(url, json=dados)\n",
    "    \n",
    "    print(f\"=== /{endpoint_name} ===\")\n",
    "    print(\"Status Code:\", response.status_code)\n",
    "    try:\n",
    "        print(\"Retorno:\", response.json())\n",
    "    except:\n",
    "        print(\"Retorno não é JSON:\", response.text)\n",
    "    print(\"\\n\")\n",
    "\n",
    "# Testar endpoint de performance\n",
    "testar_endpoint(\"performance\", batch_records)\n",
    "\n",
    "# Testar endpoint de aderência\n",
    "testar_endpoint(\"aderencia\", batch_records)\n",
    "\n",
    "\n"
   ]
  },
  {
   "cell_type": "code",
   "execution_count": 14,
   "id": "60a4fd76",
   "metadata": {},
   "outputs": [
    {
     "name": "stdout",
     "output_type": "stream",
     "text": [
      "Arquivo salvo com sucesso!\n"
     ]
    }
   ],
   "source": [
    "import json\n",
    "\n",
    "# Exemplo dos registros que você quer testar\n",
    "batch_records = {\n",
    "    \"batch_records\": [\n",
    "        {\"VAR2\": \"M\", \"IDADE\": 30, \"VAR5\": \"PR\", \"REF_DATE\": \"2025-08-01\", \"TARGET\": 0},\n",
    "        {\"VAR2\": \"F\", \"IDADE\": 45, \"VAR5\": \"SP\", \"REF_DATE\": \"2025-08-01\", \"TARGET\": 1}\n",
    "    ]\n",
    "}\n",
    "\n",
    "# Salvar como JSON\n",
    "with open(\"batch_records_complete.json\", \"w\") as f:\n",
    "    json.dump(batch_records, f, indent=2)\n",
    "\n",
    "print(\"Arquivo salvo com sucesso!\")\n",
    "\n"
   ]
  },
  {
   "cell_type": "code",
   "execution_count": 20,
   "id": "93b48b02",
   "metadata": {},
   "outputs": [
    {
     "name": "stdout",
     "output_type": "stream",
     "text": [
      "Carregados 500 registros do JSON.\n"
     ]
    }
   ],
   "source": [
    "import json\n",
    "import requests\n",
    "import pandas as pd\n",
    "import numpy as np\n",
    "\n",
    "# Caminho para o JSON\n",
    "json_path = r\"C:\\Users\\taisa\\PycharmProjects\\ProjetoNeuro\\monitoring\\batch_records.json\"\n",
    "\n",
    "# Carrega o JSON completo\n",
    "with open(json_path, \"r\") as f:\n",
    "    batch_records = json.load(f)\n",
    "\n",
    "# Prepara o payload que a API espera\n",
    "payload = {\"batch_records\": batch_records}\n",
    "\n",
    "print(f\"Carregados {len(batch_records)} registros do JSON.\")\n",
    "\n",
    "\n"
   ]
  },
  {
   "cell_type": "code",
   "execution_count": 35,
   "id": "f9a5a794",
   "metadata": {},
   "outputs": [],
   "source": [
    "import requests\n",
    "import json\n",
    "\n",
    "# URL base da sua API rodando localmente\n",
    "BASE_URL = \"http://127.0.0.1:8001\"\n",
    "\n"
   ]
  },
  {
   "cell_type": "code",
   "execution_count": 40,
   "id": "28a3be00",
   "metadata": {},
   "outputs": [
    {
     "name": "stdout",
     "output_type": "stream",
     "text": [
      "Status Code: 500\n",
      "Retorno: {'detail': \"[Errno 2] No such file or directory: 'model.pkl'\"}\n"
     ]
    }
   ],
   "source": [
    "# Caminho para o seu batch_records.json\n",
    "with open(\"C:/Users/taisa/PycharmProjects/ProjetoNeuro/monitoring/batch_records.json\", \"r\") as f:\n",
    "    batch_data = json.load(f)\n",
    "\n",
    "# Requisição POST\n",
    "response = requests.post(f\"{BASE_URL}/performance\", json=batch_data)\n",
    "\n",
    "# Exibir status e resultado\n",
    "print(\"Status Code:\", response.status_code)\n",
    "print(\"Retorno:\", response.json())\n"
   ]
  },
  {
   "cell_type": "code",
   "execution_count": 43,
   "id": "ea0faa6d",
   "metadata": {},
   "outputs": [
    {
     "name": "stdout",
     "output_type": "stream",
     "text": [
      "500\n",
      "{'detail': \"[Errno 2] No such file or directory: 'C:\\\\\\\\Users\\\\\\\\taisa\\\\\\\\PycharmProjects\\\\\\\\ProjetoNeuro\\\\\\\\datasets\\\\\\\\credit_01/train.gz'\"}\n"
     ]
    }
   ],
   "source": [
    "import requests\n",
    "\n",
    "# URL da API\n",
    "url = \"http://127.0.0.1:8001/aderencia\"\n",
    "\n",
    "# Caminho absoluto da base de treino (ou outra base de teste)\n",
    "dataset_path = r\"C:\\Users\\taisa\\PycharmProjects\\ProjetoNeuro\\datasets\\credit_01/train.gz\"\n",
    "\n",
    "# Requisição POST\n",
    "response = requests.post(url, json={\"dataset_path\": dataset_path})\n",
    "\n",
    "# Mostrar resultado\n",
    "print(response.status_code)\n",
    "print(response.json())\n"
   ]
  },
  {
   "cell_type": "code",
   "execution_count": null,
   "id": "64f11b54",
   "metadata": {},
   "outputs": [],
   "source": []
  }
 ],
 "metadata": {
  "kernelspec": {
   "display_name": "Python 3 (ipykernel)",
   "language": "python",
   "name": "python3"
  },
  "language_info": {
   "codemirror_mode": {
    "name": "ipython",
    "version": 3
   },
   "file_extension": ".py",
   "mimetype": "text/x-python",
   "name": "python",
   "nbconvert_exporter": "python",
   "pygments_lexer": "ipython3",
   "version": "3.9.13"
  }
 },
 "nbformat": 4,
 "nbformat_minor": 5
}
